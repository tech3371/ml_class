{
 "cells": [
  {
   "cell_type": "code",
   "execution_count": 1,
   "metadata": {},
   "outputs": [],
   "source": [
    "import pandas as pd\n",
    "import numpy as np\n",
    "from sklearn import *\n",
    "from sklearn.preprocessing import LabelEncoder\n",
    "import collections\n",
    "from sklearn.metrics import accuracy_score"
   ]
  },
  {
   "cell_type": "code",
   "execution_count": 2,
   "metadata": {},
   "outputs": [],
   "source": [
    "columns_name = ['age','workclass','fnlwgt','education','education-num','marital-status',\n",
    "               'occupation','relationship','race','sex','capital-gain','capital-loss',\n",
    "               'hours-per-week','native-country']\n",
    "df = pd.read_csv('train-features.csv',names=columns_name,header=None,na_values=' ?')\n",
    "df['income'] = pd.read_csv('train-output.csv') #Binary (0 means <=50K, 1 means >50K)"
   ]
  },
  {
   "cell_type": "markdown",
   "metadata": {},
   "source": [
    "## Classification"
   ]
  },
  {
   "cell_type": "code",
   "execution_count": 6,
   "metadata": {},
   "outputs": [],
   "source": [
    "class Classification:\n",
    "    def __init__(self):\n",
    "        \n",
    "        self.model = None\n",
    "        self.columns_name = ['age','workclass','fnlwgt','education','education-num',\n",
    "                                       'marital-status','occupation','relationship','race','sex',\n",
    "                                       'capital-gain','capital-loss','hours-per-week','native-country']\n",
    "        self.train_data = pd.read_csv('train-features.csv',names=self.columns_name,header=None,na_values=' ?')\n",
    "        self.train_data['income'] = pd.read_csv('train-output.csv') #Binary (0 means <=50K, 1 means >50K)\n",
    "        self.train_data = self.train_data.dropna()\n",
    "        self.test_data = pd.read_csv('test-features.csv',names=self.columns_name,header=None,na_values=' ?')\n",
    "        self.test_pred = None\n",
    "        \n",
    "        self.x_train,self.x_test, self.y_train, self.y_test = model_selection.train_test_split(self.train_data[self.columns_name],self.train_data['income'],test_size=0.2,random_state=2)\n",
    "    def preprocess(self,df):\n",
    "        '''\n",
    "        Cleans df and performs feature engineering.\n",
    "        '''\n",
    "        # replace nan values with random values of it's column's value\n",
    "        for i in self.columns_name:\n",
    "            df[i] = df[i].fillna(np.random.choice(df[i].dropna().unique()))\n",
    "\n",
    "        # category\n",
    "        df['education'] = df['education'].str.replace('Preschool', 'dropout')\n",
    "        df['education'] = df['education'].str.replace('10th', 'dropout')\n",
    "        df['education'] = df['education'].str.replace('11th', 'dropout')\n",
    "        df['education'] = df['education'].str.replace('12th', 'dropout')\n",
    "        df['education'] = df['education'].str.replace('1st-4th', 'dropout')\n",
    "        df['education'] = df['education'].str.replace('5th-6th', 'dropout')\n",
    "        df['education'] = df['education'].str.replace('7th-8th', 'dropout')\n",
    "        df['education'] = df['education'].str.replace('9th', 'dropout')\n",
    "        df['education'] = df['education'].str.replace('HS-Grad', 'HighGrad')\n",
    "        df['education'] = df['education'].str.replace('HS-grad', 'HighGrad')\n",
    "        df['education'] = df['education'].str.replace('Some-college', 'CommunityCollege')\n",
    "        df['education'] = df['education'].str.replace('Assoc-acdm', 'CommunityCollege')\n",
    "        df['education'] = df['education'].str.replace('Assoc-voc', 'CommunityCollege')\n",
    "        \n",
    "        # Binning\n",
    "        \n",
    "        df.loc[df['education-num']  < 9,'education-num']   = 0 # dropout\n",
    "        df.loc[df['education-num'] == 9,'education-num']  = 1 # high school\n",
    "        df.loc[df['education-num'] == 10,'education-num'] = 2 # Community College\n",
    "        df.loc[df['education-num'] == 11,'education-num'] = 2 # Community College\n",
    "        df.loc[df['education-num'] == 12,'education-num'] = 2 # Community College\n",
    "        df.loc[df['education-num'] == 13,'education-num'] = 3 # Bachelor\n",
    "        df.loc[df['education-num'] == 14,'education-num'] = 4 # Master\n",
    "        df.loc[df['education-num'] == 15,'education-num'] = 5 # Prof-school\n",
    "        df.loc[df['education-num'] == 16,'education-num'] = 6 # Doctorate\n",
    "        \n",
    "        # binary\n",
    "        df.loc[df['capital-gain'] >= 2000,'capital-gain'] = 1\n",
    "        df.loc[df['capital-gain']  < 2000,'capital-gain'] = 0\n",
    "        \n",
    "        df.loc[df['capital-loss']  <= 600,'capital-loss'] = 1\n",
    "        df.loc[df['capital-loss']  > 600, 'capital-loss'] = 0\n",
    "        \n",
    "        return df\n",
    "    def model(self,model):\n",
    "        '''\n",
    "        Takes in model.\n",
    "        '''\n",
    "        self.model = model\n",
    "    def plain_training(self,test_df):\n",
    "        '''\n",
    "        It trains model once and returns accuracy score\n",
    "        '''\n",
    "        clf = self.model()\n",
    "        clf.fit(self.x_train,self.y_train)\n",
    "        y_pred = clf.predict(test_df[self.columns_name])\n",
    "        \n",
    "        return clf.score(self.x_test,self.y_test)\n",
    "    def generate_submission(self, y_pred):\n",
    "        '''\n",
    "        Saves submission in the right format.\n",
    "        '''\n",
    "        pred_df = pd.DataFrame()\n",
    "        pred_df['Id'] = np.arange(0,len(test_df[self.columns_name]))\n",
    "        pred_df['Category'] = y_pred\n",
    "        pred_df.to_csv('submission.csv',index=False)\n",
    "        \n",
    "    def encode_df(self,df):\n",
    "        '''\n",
    "        Encode dataframe into numbers.\n",
    "        '''\n",
    "        return df.apply(LabelEncoder().fit_transform)\n",
    "\n",
    "    def randomforest_cw(self):\n",
    "        \n",
    "        '''\n",
    "        Cross-validation training for Random Forest method.\n",
    "        '''\n",
    "        \n",
    "                        "
   ]
  },
  {
   "cell_type": "code",
   "execution_count": 7,
   "metadata": {},
   "outputs": [],
   "source": [
    "clsf = Classification()\n",
    "df = clsf.train_data\n",
    "df = clsf.preprocess(df)"
   ]
  },
  {
   "cell_type": "code",
   "execution_count": 11,
   "metadata": {},
   "outputs": [],
   "source": [
    "test_df = clsf.test_data\n",
    "test_df = clsf.preprocess(test_df)"
   ]
  },
  {
   "cell_type": "code",
   "execution_count": 35,
   "metadata": {},
   "outputs": [],
   "source": [
    "encoded_df = clsf.encode_df(df)\n",
    "encoded_test_df = clsf.encode_df(test_df)\n",
    "# encoded_df"
   ]
  },
  {
   "cell_type": "code",
   "execution_count": 36,
   "metadata": {},
   "outputs": [
    {
     "name": "stderr",
     "output_type": "stream",
     "text": [
      "/opt/anaconda3/lib/python3.7/site-packages/sklearn/ensemble/forest.py:245: FutureWarning: The default value of n_estimators will change from 10 in version 0.20 to 100 in 0.22.\n",
      "  \"10 in version 0.20 to 100 in 0.22.\", FutureWarning)\n"
     ]
    },
    {
     "data": {
      "text/plain": [
       "0.7566716393170894"
      ]
     },
     "execution_count": 36,
     "metadata": {},
     "output_type": "execute_result"
    }
   ],
   "source": [
    "# Random forest model\n",
    "randomforest = ensemble.RandomForestClassifier(max_depth=3, random_state=0)\n",
    "randomforest.fit(x_train,y_train)\n",
    "y_pred = randomforest.predict(encoded_test_df[test_column])\n",
    "pred_df = pd.DataFrame()\n",
    "pred_df['Id'] = np.arange(0,len(encoded_test_df[test_column]))\n",
    "pred_df['Category'] = y_pred\n",
    "pred_df.to_csv('submission.csv',index=False)\n",
    "randomforest.score(x_test,y_test)\n"
   ]
  },
  {
   "cell_type": "code",
   "execution_count": 37,
   "metadata": {},
   "outputs": [
    {
     "data": {
      "text/plain": [
       "0.7543510691198408"
      ]
     },
     "execution_count": 37,
     "metadata": {},
     "output_type": "execute_result"
    }
   ],
   "source": [
    "from sklearn.svm import SVC\n",
    "clf = SVC(gamma='auto')\n",
    "clf.fit(x_train,y_train)\n",
    "y_pred = clf.predict(encoded_test_df[test_column])\n",
    "pred_df = pd.DataFrame()\n",
    "pred_df['Id'] = np.arange(0,len(encoded_test_df[test_column]))\n",
    "pred_df['Category'] = y_pred\n",
    "pred_df.to_csv('submission.csv',',')\n",
    "clf.score(x_test,y_test)"
   ]
  },
  {
   "cell_type": "code",
   "execution_count": 26,
   "metadata": {},
   "outputs": [
    {
     "name": "stdout",
     "output_type": "stream",
     "text": [
      "[0.23929348 0.24142571 0.23850362 ... 0.23836012 0.24147718 0.2400234 ]\n"
     ]
    }
   ],
   "source": [
    "reg = linear_model.Lasso()\n",
    "reg.fit(x_train,y_train)\n",
    "y_pred = reg.predict(encoded_test_df[test_column])\n",
    "# print(y_test)\n",
    "# y_pred = model_selection.cross_val_predict(reg,x_train,cv=3)\n",
    "# print(y_pred.shape,y_train.shape)\n",
    "# accuracy_score(y_test,y_pred)\n",
    "print(y_pred)"
   ]
  },
  {
   "cell_type": "code",
   "execution_count": 28,
   "metadata": {},
   "outputs": [
    {
     "data": {
      "text/plain": [
       "0.7558428642466435"
      ]
     },
     "execution_count": 28,
     "metadata": {},
     "output_type": "execute_result"
    }
   ],
   "source": [
    "# Naive Bayes\n",
    "NB = naive_bayes.GaussianNB()\n",
    "NB.fit(x_train,y_train)\n",
    "y_pred = NB.predict(x_test)\n",
    "accuracy_score(y_test,y_pred)"
   ]
  },
  {
   "cell_type": "code",
   "execution_count": null,
   "metadata": {},
   "outputs": [],
   "source": []
  }
 ],
 "metadata": {
  "kernelspec": {
   "display_name": "Python 3",
   "language": "python",
   "name": "python3"
  },
  "language_info": {
   "codemirror_mode": {
    "name": "ipython",
    "version": 3
   },
   "file_extension": ".py",
   "mimetype": "text/x-python",
   "name": "python",
   "nbconvert_exporter": "python",
   "pygments_lexer": "ipython3",
   "version": "3.7.4"
  }
 },
 "nbformat": 4,
 "nbformat_minor": 4
}
