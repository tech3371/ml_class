{
 "cells": [
  {
   "cell_type": "markdown",
   "metadata": {},
   "source": [
    "# Problem Set 1 - KNN\n",
    "## CSCI 5622 - Spring 2020\n",
    "\n",
    "For today's assignment, we will be implementing our own K-Nearest Neighbors (KNN) algorithm.\n",
    "\n",
    "*But Professor Quigley, hasn't someone else already written KNN before?*\n",
    "\n",
    "Yes, you are not the first to implement KNN, or basically any algorithm we'll work with in this class. But 1) I'll know that you know what's really going on, and 2) you'll know you can do it, because 2a) someday you might have to implement some machine learning algorithm from scratch - maybe for a new platform (do you need to run python on your SmartToaster just to get it to learn how users like their toast?), maybe because you want to tweak the algorithm (there's always a better approach...), or maybe because you're working on something important and you need to control exactly what's on there (should you really be running anaconda on your secret spy plane?).\n",
    "\n",
    "That said - we're not going to implement *everything*. We'll start by importing a few helper functions"
   ]
  },
  {
   "cell_type": "code",
   "execution_count": 1,
   "metadata": {},
   "outputs": [],
   "source": [
    "import numpy as np\n",
    "import matplotlib.pyplot as plt\n",
    "import sklearn\n",
    "import sklearn.datasets\n",
    "import pandas as pd\n",
    "import numpy as np\n",
    "from random import sample\n",
    "from sklearn.model_selection import train_test_split"
   ]
  },
  {
   "cell_type": "markdown",
   "metadata": {},
   "source": [
    "*Wait a minute - didn't we just import Scikit-learn (sklearn)? The package with baked-in machine learning tools?*\n",
    "\n",
    "Yes - but it also has a ton of helper functions, including a dataset we'll be using later. But, for now, let's set up a KNNClassifier class."
   ]
  },
  {
   "cell_type": "markdown",
   "metadata": {},
   "source": [
    "Explanation on confusion matrix for reference:\n",
    "https://towardsdatascience.com/understanding-confusion-matrix-a9ad42dcfd62"
   ]
  },
  {
   "cell_type": "code",
   "execution_count": 2,
   "metadata": {},
   "outputs": [],
   "source": [
    "import sklearn.neighbors\n",
    "\n",
    "class KNNClassifier:\n",
    "    \n",
    "    def __init__(self, X, y, k = 5):\n",
    "        \"\"\"\n",
    "        Initialize our custom KNN classifier\n",
    "        PARAMETERS\n",
    "        X - our training data features\n",
    "        y - our training data answers\n",
    "        k - the number of nearest neighbors to consider for classification\n",
    "        \"\"\"\n",
    "        self._model = sklearn.neighbors.BallTree(X)\n",
    "        self._y = y\n",
    "        self._k = k\n",
    "        self._counts = self.getCounts()\n",
    "        \n",
    "    def getCounts(self):\n",
    "        \"\"\"\n",
    "        Creates a dictionary storing the counts of each answer class found in y\n",
    "        RETURNS\n",
    "        counts - a dictionary of counts of answer classes\n",
    "        \"\"\"\n",
    "        counts = dict({1:0,-1:0})\n",
    "        #BEGIN Workspace 1.1\n",
    "        #TODO: Modify and/or add to counts so that it returns a count of each answer class found in y\n",
    "        #END Workspace 1.1\n",
    "        unique, counts = np.unique(self._y, return_counts=True)\n",
    "        counts = dict(zip(unique, counts))\n",
    "        return(counts)\n",
    "    \n",
    "    def majority(self, indices):\n",
    "        \"\"\"\n",
    "        Given indices, report the majority label of those points.\n",
    "        For a tie, report the most common label in the data set.\n",
    "        PARAMETERS\n",
    "        indices - an np.array, where each element is an index of a neighbor\n",
    "        RETURNS\n",
    "        label - the majority label of our neighbors\n",
    "        \"\"\"\n",
    "        label = 0\n",
    "        #BEGIN Workspace 1.2\n",
    "        #TODO: Determine majority, assign it to label\n",
    "        #END Workspace 1.2\n",
    "        digit = [0,1,2,3,4,5,6,7,8,9,-1]\n",
    "        result = []\n",
    "        for i in indices[0]: # loops through k closest neighbor's indices and get which digit it is and stores it.\n",
    "            result.append(digit[digit.index(self._y[0][i])])\n",
    "        \n",
    "        result_count = dict((i, result.count(i)) for i in digit) # loop through all nearest digits and gets its' count.\n",
    "        desc_ind_list = sorted(result_count, key=result_count.get, reverse=True) # sortes result_count into descending order\n",
    "        \n",
    "        if(result_count[desc_ind_list[0]] == result_count[desc_ind_list[1]]): # equal weigth\n",
    "            #print(\"Tie between {} : {} !\".format(desc_ind_list[0],desc_ind_list[1]))\n",
    "            count = self.getCounts() # gets counts of each digits\n",
    "            \n",
    "            # give label to the max value in the count.\n",
    "            if(count[desc_ind_list[0]] > count[desc_ind_list[1]]): label = desc_ind_list[0]\n",
    "            else: label = desc_ind_list[1]\n",
    "                \n",
    "            #print(\"label assigned after tie: \",label)\n",
    "            \n",
    "        else:\n",
    "            label = desc_ind_list[0]  \n",
    "            \n",
    "        return(label)\n",
    "    \n",
    "    def classify(self, point):\n",
    "        \"\"\"\n",
    "        Given a new data point, classify it according to the training data X and our number of neighbors k \n",
    "        into the appropriate class in our training answers y\n",
    "        PARAMETERS\n",
    "        point - a feature vector of our test point\n",
    "        RETURNS\n",
    "        ans - our predicted classification\n",
    "        \"\"\"\n",
    "        ans = 0\n",
    "        #BEGIN Workspace 1.3\n",
    "        #TODO: perform classification of point here\n",
    "        #HINT: use the majority function created above\n",
    "        #HINT: use the euclidian distance discussed in lecture to find nearest neighbors\n",
    "        #END Workspace 1.3\n",
    "        dist, ind = self._model.query([point], k=self._k) # returns distance and indices of k nearest neighbors\n",
    "        ans = self.majority(ind)\n",
    "        return(ans)\n",
    "    \n",
    "    def confusionMatrix(self, testX, testY):\n",
    "        \"\"\"\n",
    "        Generate a confusion matrix for the given test set\n",
    "        PARAMETERS\n",
    "        testX - an np.array of feature vectors of test points\n",
    "        testY - the corresponding correct classifications of our test set\n",
    "        RETURN\n",
    "        C - an N*N np.array of counts, where N is the number of classes in our classifier\n",
    "        \"\"\"\n",
    "        # get unique values in self.y to determine N\n",
    "        N = len(set(self._y[0]))\n",
    "        C = np.array(np.zeros([N,N]))\n",
    "        key_map = {-1:0,0:0,1:1,2:2,3:3,4:4,5:5,6:6,7:7,8:8,9:9} # Using mapping to index in matrix\n",
    "\n",
    "        #BEGIN Workspace 1.4\n",
    "        #TODO: Run classification for the test set, compare to test answers, and add counts to matrix\n",
    "        for i in range(len(testX)):\n",
    "            C[key_map[testX[i]]][key_map[testY[i]]] += 1\n",
    "        #END Workspace 1.4\n",
    "        \n",
    "        return(C)\n",
    "    \n",
    "    def accuracy(self, C):\n",
    "        \"\"\"\n",
    "        Generate an accuracy score for the classifier based on the confusion matrix\n",
    "        PARAMETERS\n",
    "        C - an np.array of counts\n",
    "        RETURN\n",
    "        score - an accuracy score\n",
    "        \"\"\"\n",
    "        score = np.sum(C.diagonal()) / C.sum()\n",
    "        return(score)"
   ]
  },
  {
   "cell_type": "markdown",
   "metadata": {},
   "source": [
    "*But professor, this code isn't complete!*\n",
    "\n",
    "### Problem 1: Complete our KNN Classifier - 40 Points (10 each)\n",
    "\n",
    "1.1 - Complete the getCounts function to return the count of each class found in the training set\n",
    "\n",
    "1.2 - Complete the majority function to determine the majority class of a series of neighbors\n",
    "\n",
    "1.3 - Complete the classify function to capture the predicted class of a new datapoint\n",
    "\n",
    " - HINT: Use the BallTree documentation to determine how to retrieve neighbors from the model (https://scikit-learn.org/stable/modules/generated/sklearn.neighbors.BallTree.html#sklearn.neighbors.BallTree)\n",
    "\n",
    "1.4 - Complete the confusionMatrix function to reveal the results of classification\n",
    "\n",
    "You can take a look at the unit tests below to see how we create data to input into our classifier, what kinds of things we expect as output, etc. You should also consider expanding the test cases to make sure your classifier is working correctly.\n"
   ]
  },
  {
   "cell_type": "code",
   "execution_count": 3,
   "metadata": {},
   "outputs": [
    {
     "name": "stderr",
     "output_type": "stream",
     "text": [
      "......"
     ]
    },
    {
     "name": "stdout",
     "output_type": "stream",
     "text": [
      "Confusion Matrix: \n",
      " [[3. 0.]\n",
      " [0. 2.]]\n",
      "Accuracy: \n",
      " 1.0\n"
     ]
    },
    {
     "name": "stderr",
     "output_type": "stream",
     "text": [
      "\n",
      "----------------------------------------------------------------------\n",
      "Ran 6 tests in 0.023s\n",
      "\n",
      "OK\n"
     ]
    },
    {
     "data": {
      "text/plain": [
       "<unittest.runner.TextTestResult run=6 errors=0 failures=0>"
      ]
     },
     "execution_count": 3,
     "metadata": {},
     "output_type": "execute_result"
    }
   ],
   "source": [
    "import unittest\n",
    "\n",
    "class KNNTester(unittest.TestCase):\n",
    "    def setUp(self):\n",
    "        self.x = np.array([[3,1],[2,8], [2,7], [5,2],[3,2],[8,2],[2,4]])\n",
    "        self.y = np.array([[1, -1, -1, 1, -1, 1, -1]])\n",
    "        self.knnfive = KNNClassifier(self.x, self.y)\n",
    "        self.knnthree = KNNClassifier(self.x, self.y, 3)\n",
    "        self.knnone = KNNClassifier(self.x, self.y, 1)\n",
    "        \n",
    "        \n",
    "        self.testPoints = np.array([[2,1], [2,6], [4, 4]])\n",
    "        self.test = np.array([[2,1],[2,3],[7,1],[2,6],[4,4]])\n",
    "        self.px = [1,-1,1,-1,-1]\n",
    "        self.knntwo = KNNClassifier(self.test,[self.px],2)\n",
    "        self.py = []\n",
    "        for i in self.test:\n",
    "            self.py.append(self.knnone.classify(i))\n",
    "    def plot(self):\n",
    "        x = [i[0] for i in self.x]\n",
    "        y = [i[1] for i in self.x]\n",
    "        plt.scatter(x,y)\n",
    "        plt.show()\n",
    "    def testCounter(self):\n",
    "        \"\"\"\n",
    "        Test getCounts function from knnclassifier\n",
    "        \"\"\"\n",
    "        self.assertEqual(self.knnfive._counts[1], 3)\n",
    "        self.assertEqual(self.knnfive._counts[-1], 4)\n",
    "        \n",
    "    def testKNNOne(self):\n",
    "        \"\"\"\n",
    "        Test if the classifier returns \"correct\" (expected) classifications for k = 1\n",
    "        \"\"\"\n",
    "        self.assertEqual(self.knnone.classify(self.testPoints[0]), 1)\n",
    "        self.assertEqual(self.knnone.classify(self.testPoints[1]), -1)\n",
    "        self.assertEqual(self.knnone.classify(self.testPoints[2]), -1)\n",
    "        \n",
    "    #BEGIN Workspace\n",
    "    #Add more test functions as desired\n",
    "    #HINT - You'll want to make sure each of your functions from the KNNClassifier class you created work correctly...\n",
    "    #END Workspace \n",
    "    \n",
    "    def testKNNTwo(self):\n",
    "        self.assertEqual(self.knntwo.classify(self.testPoints[0]),-1)\n",
    "    def testKNNThree(self):\n",
    "        '''\n",
    "        Test if the classifier returns \"correct\" classification for k=3\n",
    "        '''\n",
    "        self.assertEqual(self.knnthree.classify(self.testPoints[0]),-1)\n",
    "        self.assertEqual(self.knnthree.classify(self.testPoints[1]),-1)\n",
    "        self.assertEqual(self.knnthree.classify(self.testPoints[2]),-1)\n",
    "        \n",
    "    def testKNNFive(self):\n",
    "        '''\n",
    "        Test if the classifier returns \"correct\" classification for k=5\n",
    "        '''\n",
    "        self.assertEqual(self.knnfive.classify(self.testPoints[0]),-1)\n",
    "        self.assertEqual(self.knnfive.classify(self.testPoints[1]),-1)\n",
    "        self.assertEqual(self.knnfive.classify(self.testPoints[2]),-1)\n",
    "    def testConfusionMatrix(self):\n",
    "        print(\"Confusion Matrix: \\n\", self.knnone.confusionMatrix(self.px,self.py))\n",
    "        print(\"Accuracy: \\n\", self.knnone.accuracy(self.knnone.confusionMatrix(self.px,self.py)))\n",
    "    \n",
    "tests = KNNTester()\n",
    "tests.setUp()\n",
    "myTests = unittest.TestLoader().loadTestsFromModule(tests)\n",
    "unittest.TextTestRunner().run(myTests)"
   ]
  },
  {
   "cell_type": "markdown",
   "metadata": {},
   "source": [
    "OK - now we've demonstrated that our KNN classifier works, let's think about our problem space! \n",
    "\n",
    "## Our Dataset - Identifying Digits from Images\n",
    "\n",
    "It's a pretty common problem - just imagine working at the post office, or at a bank, and you're handed a hand-written envelope, or check, or other piece of information and you have to identify exactly what it says. Did they pay 500 or 600 dollars? Is the letter going to 80309 (campus) or 30309 (Atlanta)?\n",
    "\n",
    "Let's be a little smart about this - let's up some classes and helper functions to help us out.\n",
    "\n",
    "### Problem 2: Implement KNN on Digits dataset - 30 Points\n",
    "\n",
    "2.1 Randomly divide our Digits dataset into training and testing sets (15 Points)\n",
    "\n",
    "2.2 Report the number of examples in training and testing, as well as measuring then number of pixels in each image (5 points)\n",
    "\n",
    "2.3 Create a confusion matrix of our classifier for K = 5 (10 points) *HINT: Doing this may cause you to catch mistakes in your classifier. Go fix those!*"
   ]
  },
  {
   "cell_type": "code",
   "execution_count": 4,
   "metadata": {},
   "outputs": [],
   "source": [
    "\n",
    "class Numbers:\n",
    "    def __init__(self):\n",
    "        #load data from sklearn\n",
    "        digits = sklearn.datasets.load_digits()        \n",
    "        #BEGIN Workspace 2.1\n",
    "        # features ==> digits['data']\n",
    "        # class ==> digits['target_names']\n",
    "        # features_map_to ==> digits['target']\n",
    "        #TODO: Divide our dataset into Train and Test datasets (80/20 split), replacing the variables above\n",
    "        #END Workspace 2.1\n",
    "        self.train_x, self.test_x, self.train_y, self.test_y = train_test_split(digits['data'], digits['target'], test_size=0.20, random_state=42)\n",
    "\n",
    "        \n",
    "    def report(self):\n",
    "        \"\"\"\n",
    "        Report information about the dataset using the print() function\n",
    "        \"\"\"\n",
    "        #BEGIN Workspace 2.2\n",
    "        #TODO: Create printouts for reporting the size of each set and the size of each datapoint\n",
    "        #END Workspace 2.2\n",
    "        digits = sklearn.datasets.load_digits()\n",
    "        print(\"Total data: \", digits['data'].shape)\n",
    "        print(\"\")\n",
    "        print(\"Train Data:\\n{} rows and {} datapoints \".format(self.train_x.shape[0],self.train_x.shape[1]))\n",
    "        print(\"Train Label:\\n{} rows \".format(self.train_y.shape[0]))\n",
    "        print(\"\")\n",
    "        print(\"Test Data:\\n{} rows and {} datapoints \".format(self.test_x.shape[0],self.test_x.shape[1]))\n",
    "        print(\"Test Label:\\n{} rows \".format(self.test_y.shape[0]))\n",
    "        print(\"\")\n",
    "        print(\"Each images is {} x {} pixels resolution\".format(digits['images'].shape[1],digits['images'].shape[2]))\n",
    "        print(\"\")\n",
    "        \n",
    "    def classify(self):\n",
    "        \"\"\"\n",
    "        Create a classifier using the training data and generate a confusion matrix for the test data\n",
    "        \"\"\"\n",
    "        #BEGIN Workspace 2.3\n",
    "        #TODO: Create classifier from training data, generate confusion matrix for test data\n",
    "        #END Workspace 2.3\n",
    "        predicted_value = []\n",
    "        digit_knn = KNNClassifier(self.train_x, [self.train_y],5)\n",
    "        for i in self.test_x:\n",
    "            predicted_value.append(digit_knn.classify(i))\n",
    "            \n",
    "        print(\"Confusion Matrix: \\n\\n\",digit_knn.confusionMatrix(self.test_y,predicted_value))\n",
    "        print(\"\\nAccuracy: \\n\", digit_knn.accuracy(digit_knn.confusionMatrix(self.test_y,predicted_value)))\n",
    "    def viewDigit(self, digitImage):\n",
    "        \"\"\"\n",
    "        Display an image of a digit\n",
    "        PARAMETERS\n",
    "        digitImage - a data object from the dataset\n",
    "        \"\"\"\n",
    "        plt.gray()\n",
    "        plt.matshow(digitImage)\n",
    "        plt.show()\n",
    "        "
   ]
  },
  {
   "cell_type": "code",
   "execution_count": 5,
   "metadata": {},
   "outputs": [
    {
     "name": "stdout",
     "output_type": "stream",
     "text": [
      "Total data:  (1797, 64)\n",
      "\n",
      "Train Data:\n",
      "1437 rows and 64 datapoints \n",
      "Train Label:\n",
      "1437 rows \n",
      "\n",
      "Test Data:\n",
      "360 rows and 64 datapoints \n",
      "Test Label:\n",
      "360 rows \n",
      "\n",
      "Each images is 8 x 8 pixels resolution\n",
      "\n",
      "Confusion Matrix: \n",
      "\n",
      " [[33.  0.  0.  0.  0.  0.  0.  0.  0.  0.]\n",
      " [ 0. 28.  0.  0.  0.  0.  0.  0.  0.  0.]\n",
      " [ 0.  0. 33.  0.  0.  0.  0.  0.  0.  0.]\n",
      " [ 0.  0.  0. 34.  0.  0.  0.  0.  0.  0.]\n",
      " [ 0.  0.  0.  0. 46.  0.  0.  0.  0.  0.]\n",
      " [ 0.  0.  0.  0.  0. 45.  1.  0.  0.  1.]\n",
      " [ 0.  0.  0.  0.  0.  0. 35.  0.  0.  0.]\n",
      " [ 0.  0.  0.  0.  0.  0.  0. 33.  0.  1.]\n",
      " [ 0.  0.  0.  0.  0.  0.  0.  0. 30.  0.]\n",
      " [ 0.  0.  0.  0.  1.  1.  0.  0.  0. 38.]]\n",
      "\n",
      "Accuracy: \n",
      " 0.9861111111111112\n"
     ]
    }
   ],
   "source": [
    "test = Numbers()\n",
    "test.report()\n",
    "test.classify()"
   ]
  },
  {
   "cell_type": "markdown",
   "metadata": {},
   "source": [
    "*Wow, I can't believe we just created a KNN Classifier - but can't we make it better?*\n",
    "\n",
    "Yes, we saw above that our classifier didn't work perfectly. Let's explore that issue a little further\n",
    "\n",
    "### Problem 3: Improving KNN on Digits - 30 Points\n",
    "\n",
    "3.1 Determine which classes are most often confused (from our confusion matrix above), inspect some examples of these digits (using the viewDigit function in our Numbers class), and write a brief (4 - 5 sentences) description of why you think these particular numbers may be misclassified.\n",
    "\n",
    "3.2 Explore the influence of the number of nearest neighbors (i.e. try changing our K). Plot the relationship between K and accuracy, and write a brief (4 - 5 sentences) description of how this factor impacts our accuracy.\n",
    "\n",
    "3.3 (Bonus) Explore the influence of the train / test split of our data (i.e. copy our Numbers class into Numbers2 below and try changing the split for our dataset). Plot the relationship between the split % and accuracy, and write a brief (4 - 5 sentences) description of its impact."
   ]
  },
  {
   "cell_type": "code",
   "execution_count": 9,
   "metadata": {},
   "outputs": [
    {
     "data": {
      "text/plain": [
       "<Figure size 432x288 with 0 Axes>"
      ]
     },
     "metadata": {},
     "output_type": "display_data"
    },
    {
     "data": {
      "image/png": "[encoded data removed]",
      "text/plain": [
       "<Figure size 288x288 with 1 Axes>"
      ]
     },
     "metadata": {
      "needs_background": "light"
     },
     "output_type": "display_data"
    },
    {
     "data": {
      "text/plain": [
       "<Figure size 432x288 with 0 Axes>"
      ]
     },
     "metadata": {},
     "output_type": "display_data"
    },
    {
     "data": {
      "image/png": "[encoded data removed]",
      "text/plain": [
       "<Figure size 288x288 with 1 Axes>"
      ]
     },
     "metadata": {
      "needs_background": "light"
     },
     "output_type": "display_data"
    },
    {
     "data": {
      "text/plain": [
       "<Figure size 432x288 with 0 Axes>"
      ]
     },
     "metadata": {},
     "output_type": "display_data"
    },
    {
     "data": {
      "image/png": "[encoded data removed]",
      "text/plain": [
       "<Figure size 288x288 with 1 Axes>"
      ]
     },
     "metadata": {
      "needs_background": "light"
     },
     "output_type": "display_data"
    }
   ],
   "source": [
    "#BEGIN 3.1a\n",
    "#TODO: Print out problem class images\n",
    "# prints misclassified digits image\n",
    "digits = sklearn.datasets.load_digits()\n",
    "test.viewDigit(digits['images'][5])\n",
    "test.viewDigit(digits['images'][4])\n",
    "\n",
    "test.viewDigit(digits['images'][9])\n",
    "#END 3.1a"
   ]
  },
  {
   "cell_type": "markdown",
   "metadata": {},
   "source": [
    "#### 3.1b\n",
    "TODO: Write description of misclassification\n",
    "\n",
    "From looking at the confusion matrix, digit 5,7, and 9 are the misclassified as another digit. For example, digit 9 has been has classified as 4 and 5. I think it has to do with the pattern of grey scale and similar shape in the image. Between 5 and 9, we can see similar grey scale tiles even though some areas are more lighter in 5 than it is 9 and vice versa. \n",
    "\n",
    "The surprising part I found from confusion matrix is the lack of confusion between 0,6 and 9 or between 1 and 7. The way we human misclassify a digit by looking at handwriting and the way ML model misclassified a digit based on image data is quite different.  \n",
    "\n"
   ]
  },
  {
   "cell_type": "code",
   "execution_count": 10,
   "metadata": {},
   "outputs": [],
   "source": [
    "class Numbers2:\n",
    "    def __init__(self, trainPercentage):\n",
    "        #load data from sklearn\n",
    "        digits = sklearn.datasets.load_digits()        \n",
    "        #BEGIN Workspace 2.1\n",
    "        # features ==> digits['data']\n",
    "        # class ==> digits['target_names']\n",
    "        # features_map_to ==> digits['target']\n",
    "        #TODO: Divide our dataset into Train and Test datasets (80/20 split), replacing the variables above\n",
    "        #END Workspace 2.1\n",
    "        self.train_x, self.test_x, self.train_y, self.test_y = train_test_split(digits['data'], digits['target'], test_size=(1-trainPercentage), random_state=42)\n",
    "\n",
    "    def classify(self):\n",
    "        \"\"\"\n",
    "        Create a classifier using the training data and generate a confusion matrix for the test data\n",
    "        \"\"\"\n",
    "        #BEGIN Workspace 2.3\n",
    "        #TODO: Create classifier from training data, generate confusion matrix for test data\n",
    "        #END Workspace 2.3\n",
    "        predicted_value = []\n",
    "        digit_knn = KNNClassifier(self.train_x, [self.train_y],5)\n",
    "        for i in self.test_x:\n",
    "            predicted_value.append(digit_knn.classify(i))\n",
    "        #print(predicted_value)\n",
    "        print(\"Confusion Matrix: \\n\",digit_knn.confusionMatrix(self.test_y,predicted_value))\n",
    "        print(\"Accuracy: \\n\", digit_knn.accuracy(digit_knn.confusionMatrix(self.test_y,predicted_value)))\n",
    "    def viewDigit(self, digitImage):\n",
    "        \"\"\"\n",
    "        Display an image of a digit\n",
    "        PARAMETERS\n",
    "        digitImage - a data object from the dataset\n",
    "        \"\"\"\n",
    "        plt.gray()\n",
    "        plt.matshow(digitImage)\n",
    "        plt.show()"
   ]
  },
  {
   "cell_type": "code",
   "execution_count": 11,
   "metadata": {},
   "outputs": [
    {
     "data": {
      "image/png": "[encoded data removed]",
      "text/plain": [
       "<Figure size 432x288 with 1 Axes>"
      ]
     },
     "metadata": {
      "needs_background": "light"
     },
     "output_type": "display_data"
    }
   ],
   "source": [
    " \n",
    "k_val = []\n",
    "acc = []\n",
    "for k in range(2,40):\n",
    "    k_val.append(k)\n",
    "    test = Numbers2(0.8)\n",
    "    predicted_value = []\n",
    "    digit_knn = KNNClassifier(test.train_x, [test.train_y],k)\n",
    "    for i in test.test_x:\n",
    "        predicted_value.append(digit_knn.classify(i))\n",
    "    acc.append(digit_knn.accuracy(digit_knn.confusionMatrix(test.test_y,predicted_value)))\n",
    "    \n",
    "plt.scatter(k_val,acc)\n",
    "plt.xlabel(\"k value\")\n",
    "plt.ylabel(\"accuracy\")\n",
    "plt.show()"
   ]
  },
  {
   "cell_type": "markdown",
   "metadata": {},
   "source": [
    "#### 3.2b\n",
    "TODO: Write description of influence of neighbor count\n",
    "\n",
    "For the plot, I only chose k value upto 40 because after 40, the accuracy keeps going down.\n",
    "When we are changing k value, there is threshold where the accuracy increase. But after certain k value, then the accuracy drops. For this digit problem, the optimal k value for 80-20 split is 7. With k=7, we get highest accuracy. The reason the k value works well upto certain k value is due to how the data is distributed and data are together in some region. The bigger value of k after certain threshold, we lose accuracy because of over-fitting. So finding optimal k value seems to play important role in getting best result."
   ]
  },
  {
   "cell_type": "code",
   "execution_count": 13,
   "metadata": {},
   "outputs": [
    {
     "ename": "IndexError",
     "evalue": "index 6 is out of bounds for axis 0 with size 6",
     "output_type": "error",
     "traceback": [
      "\u001b[0;31m---------------------------------------------------------------------------\u001b[0m",
      "\u001b[0;31mIndexError\u001b[0m                                Traceback (most recent call last)",
      "\u001b[0;32m<ipython-input-13-8c74552bef4e>\u001b[0m in \u001b[0;36m<module>\u001b[0;34m()\u001b[0m\n\u001b[1;32m     10\u001b[0m     \u001b[0;32mfor\u001b[0m \u001b[0mi\u001b[0m \u001b[0;32min\u001b[0m \u001b[0mtest\u001b[0m\u001b[0;34m.\u001b[0m\u001b[0mtest_x\u001b[0m\u001b[0;34m:\u001b[0m\u001b[0;34m\u001b[0m\u001b[0;34m\u001b[0m\u001b[0m\n\u001b[1;32m     11\u001b[0m         \u001b[0mpredicted_value\u001b[0m\u001b[0;34m.\u001b[0m\u001b[0mappend\u001b[0m\u001b[0;34m(\u001b[0m\u001b[0mdigit_knn\u001b[0m\u001b[0;34m.\u001b[0m\u001b[0mclassify\u001b[0m\u001b[0;34m(\u001b[0m\u001b[0mi\u001b[0m\u001b[0;34m)\u001b[0m\u001b[0;34m)\u001b[0m\u001b[0;34m\u001b[0m\u001b[0;34m\u001b[0m\u001b[0m\n\u001b[0;32m---> 12\u001b[0;31m     \u001b[0macc\u001b[0m\u001b[0;34m.\u001b[0m\u001b[0mappend\u001b[0m\u001b[0;34m(\u001b[0m\u001b[0mdigit_knn\u001b[0m\u001b[0;34m.\u001b[0m\u001b[0maccuracy\u001b[0m\u001b[0;34m(\u001b[0m\u001b[0mdigit_knn\u001b[0m\u001b[0;34m.\u001b[0m\u001b[0mconfusionMatrix\u001b[0m\u001b[0;34m(\u001b[0m\u001b[0mtest\u001b[0m\u001b[0;34m.\u001b[0m\u001b[0mtest_y\u001b[0m\u001b[0;34m,\u001b[0m\u001b[0mpredicted_value\u001b[0m\u001b[0;34m)\u001b[0m\u001b[0;34m)\u001b[0m\u001b[0;34m)\u001b[0m\u001b[0;34m\u001b[0m\u001b[0;34m\u001b[0m\u001b[0m\n\u001b[0m\u001b[1;32m     13\u001b[0m \u001b[0;34m\u001b[0m\u001b[0m\n\u001b[1;32m     14\u001b[0m \u001b[0mplt\u001b[0m\u001b[0;34m.\u001b[0m\u001b[0mscatter\u001b[0m\u001b[0;34m(\u001b[0m\u001b[0mp_val\u001b[0m\u001b[0;34m,\u001b[0m\u001b[0macc\u001b[0m\u001b[0;34m)\u001b[0m\u001b[0;34m\u001b[0m\u001b[0;34m\u001b[0m\u001b[0m\n",
      "\u001b[0;32m<ipython-input-2-cff78757b645>\u001b[0m in \u001b[0;36mconfusionMatrix\u001b[0;34m(self, testX, testY)\u001b[0m\n\u001b[1;32m    102\u001b[0m         \u001b[0;31m#TODO: Run classification for the test set, compare to test answers, and add counts to matrix\u001b[0m\u001b[0;34m\u001b[0m\u001b[0;34m\u001b[0m\u001b[0;34m\u001b[0m\u001b[0m\n\u001b[1;32m    103\u001b[0m         \u001b[0;32mfor\u001b[0m \u001b[0mi\u001b[0m \u001b[0;32min\u001b[0m \u001b[0mrange\u001b[0m\u001b[0;34m(\u001b[0m\u001b[0mlen\u001b[0m\u001b[0;34m(\u001b[0m\u001b[0mtestX\u001b[0m\u001b[0;34m)\u001b[0m\u001b[0;34m)\u001b[0m\u001b[0;34m:\u001b[0m\u001b[0;34m\u001b[0m\u001b[0;34m\u001b[0m\u001b[0m\n\u001b[0;32m--> 104\u001b[0;31m             \u001b[0mC\u001b[0m\u001b[0;34m[\u001b[0m\u001b[0mkey_map\u001b[0m\u001b[0;34m[\u001b[0m\u001b[0mtestX\u001b[0m\u001b[0;34m[\u001b[0m\u001b[0mi\u001b[0m\u001b[0;34m]\u001b[0m\u001b[0;34m]\u001b[0m\u001b[0;34m]\u001b[0m\u001b[0;34m[\u001b[0m\u001b[0mkey_map\u001b[0m\u001b[0;34m[\u001b[0m\u001b[0mtestY\u001b[0m\u001b[0;34m[\u001b[0m\u001b[0mi\u001b[0m\u001b[0;34m]\u001b[0m\u001b[0;34m]\u001b[0m\u001b[0;34m]\u001b[0m \u001b[0;34m+=\u001b[0m \u001b[0;36m1\u001b[0m\u001b[0;34m\u001b[0m\u001b[0;34m\u001b[0m\u001b[0m\n\u001b[0m\u001b[1;32m    105\u001b[0m         \u001b[0;31m#END Workspace 1.4\u001b[0m\u001b[0;34m\u001b[0m\u001b[0;34m\u001b[0m\u001b[0;34m\u001b[0m\u001b[0m\n\u001b[1;32m    106\u001b[0m \u001b[0;34m\u001b[0m\u001b[0m\n",
      "\u001b[0;31mIndexError\u001b[0m: index 6 is out of bounds for axis 0 with size 6"
     ]
    }
   ],
   "source": [
    "import random\n",
    "p_val = []\n",
    "acc = []\n",
    "for j in range(0,30):\n",
    "    p = random.uniform(0, 0.9)\n",
    "    p_val.append(p)\n",
    "    test = Numbers2(p)\n",
    "    predicted_value = []\n",
    "    digit_knn = KNNClassifier(test.train_x, [test.train_y],7)\n",
    "    for i in test.test_x:\n",
    "        predicted_value.append(digit_knn.classify(i))\n",
    "    acc.append(digit_knn.accuracy(digit_knn.confusionMatrix(test.test_y,predicted_value)))\n",
    "    \n",
    "plt.scatter(p_val,acc)\n",
    "plt.xlabel(\"percentage value\")\n",
    "plt.ylabel(\"accuracy\")\n",
    "plt.show()"
   ]
  },
  {
   "cell_type": "markdown",
   "metadata": {},
   "source": [
    "#### 3.3b\n",
    "TODO: Write description of influence of training / testing split"
   ]
  },
  {
   "cell_type": "code",
   "execution_count": null,
   "metadata": {},
   "outputs": [],
   "source": []
  }
 ],
 "metadata": {
  "kernelspec": {
   "display_name": "Python 3",
   "language": "python",
   "name": "python3"
  },
  "language_info": {
   "codemirror_mode": {
    "name": "ipython",
    "version": 3
   },
   "file_extension": ".py",
   "mimetype": "text/x-python",
   "name": "python",
   "nbconvert_exporter": "python",
   "pygments_lexer": "ipython3",
   "version": "3.7.3"
  }
 },
 "nbformat": 4,
 "nbformat_minor": 4
}
