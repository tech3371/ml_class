{
 "cells": [
  {
   "cell_type": "markdown",
   "metadata": {},
   "source": [
    "# An NLP Sandbox\n",
    "\n",
    "Building from The Twitter Political Corpus: https://www.usna.edu/Users/cs/nchamber/data/twitter/"
   ]
  },
  {
   "cell_type": "code",
   "execution_count": 11,
   "metadata": {},
   "outputs": [
    {
     "name": "stdout",
     "output_type": "stream",
     "text": [
      "[['NOT'\n",
      "  'RT @louiegiglio God wants worshipers before workers; indeed the only acceptable workers are those who have learned the lost art of worship.']\n",
      " ['NOT' 'i have my eye on the motorola droid...']\n",
      " ['NOT'\n",
      "  'RT @ms_nunez Attention: @GWPHOTOGRAPHY will be in NY/PA Nov. 12-14!!! Want a shoot? LET ME KNOW! Or tell him! 405 512 4290']\n",
      " ...\n",
      " ['POLIT'\n",
      "  'Guess all Bronx girls do know each other. RT @LatinaMagazine JLo Hosts Dinner Party for #Sotomayor http://bit.ly/2dsxah (via @VPEPR) HA!']\n",
      " ['POLIT'\n",
      "  'OMG GOP WTF?! Heard the latest conservative claptrap? Take quiz to benefit lefty org & get the sticker http://bit.ly/yz8wE #p2 #noisemachine']\n",
      " ['NOT'\n",
      "  \"@doubleyouxyz on the contrary, there's nothing wrong with it! there's something INVITING! *chokes up and dies*\"]]\n",
      "[['POLIT'\n",
      "  \"RT @AgeofMastery: RT @buzztok: RT @sidunn: WIN! Republican Governr of UTAH supports Obama's speech 2 schools http://bit.ly/a6IWN\"]\n",
      " ['NOT'\n",
      "  \"@KidSisterMelisa Girl, I can't wait to see you at Fun Fun Fun Fest this weekend!\"]\n",
      " ['POLIT'\n",
      "  'RT@Spiegel_English No way out of Afghanistan for Nato at http://tinyurl.com/zgzuxg']\n",
      " ...\n",
      " ['POLIT'\n",
      "  'RT @TakingBackUSA RT @VetsOnTheWatch The Obama Prayer: http://bit.ly/1tTulX']\n",
      " ['NOT' '@PurpleBrina17 *grin* I do like them...']\n",
      " ['NOT'\n",
      "  'Coaches: Do you know the #1 foolproof method of becoming essential to your prospects and clients in any economy? http://bit.ly/1dEoav']]\n"
     ]
    }
   ],
   "source": [
    "import nltk\n",
    "import numpy as np\n",
    "import csv\n",
    "import sklearn\n",
    "\n",
    "a = np.array(list(csv.reader(open('./general-tweets.txt', 'r', encoding = 'utf8'), delimiter='\\t')))\n",
    "b = np.array(list(csv.reader(open('./keyword-tweets.txt', 'r', encoding = 'utf8'), delimiter='\\t')))\n",
    "\n",
    "dataset = np.concatenate((a,b),axis=0)\n",
    "\n",
    "train_data, test_data = sklearn.model_selection.train_test_split(dataset)\n"
   ]
  },
  {
   "cell_type": "code",
   "execution_count": null,
   "metadata": {},
   "outputs": [],
   "source": []
  }
 ],
 "metadata": {
  "kernelspec": {
   "display_name": "Python 3",
   "language": "python",
   "name": "python3"
  },
  "language_info": {
   "codemirror_mode": {
    "name": "ipython",
    "version": 3
   },
   "file_extension": ".py",
   "mimetype": "text/x-python",
   "name": "python",
   "nbconvert_exporter": "python",
   "pygments_lexer": "ipython3",
   "version": "3.7.1"
  }
 },
 "nbformat": 4,
 "nbformat_minor": 2
}
