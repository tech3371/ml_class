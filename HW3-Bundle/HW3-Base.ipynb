{
 "cells": [
  {
   "cell_type": "markdown",
   "metadata": {},
   "source": [
    "# Homework 3 - SVM and Regularization\n",
    "## CSCI 5622 - Spring 2019\n",
    "***\n",
    "**Name**: $<$Tenzin Choedon$>$ \n",
    "***\n",
    "\n",
    "This assignment is due on Canvas by **11.59 PM on Monday, March 16**. Submit only this Jupyter notebook to Canvas.  Do not compress it using tar, rar, zip, etc. Your solutions to analysis questions should be done in Markdown directly below the associated question.  Remember that you are encouraged to discuss the problems with your classmates and instructors, but **you must write all code and solutions on your own**, and list any people or sources consulted.\n",
    "\n",
    "Portions of this assignment, including the plotting functions used, are implemented from Andrew Ng's Machine Learning course."
   ]
  },
  {
   "cell_type": "markdown",
   "metadata": {},
   "source": [
    "## Part 1: Lasso and Ridge regression - 40 points"
   ]
  },
  {
   "cell_type": "markdown",
   "metadata": {},
   "source": [
    "We have seen that the difference between LASSO and Ridge regression is due to their different regularization model (L1 norm vs. L2 norm). The regularization term in LASSO is $\\lambda||\\mathbf w||_1$, while the regularization term in ridge regression is  $(\\lambda/2) ||\\mathbf w||^2$ (where $\\mathbf w$ denotes the set of parameters for the linear regression model and $\\lambda$ is the trade-off regularization parameter). LASSO typically enforces more _sparsity_ on the resulting $\\mathbf w$. That is, the resulting classifier will have a small number of non-zero weights. In this exercise, you'll explore differences in performance between LASSO and Ridge regression algorithms across a few different data sets.\n",
    "\n",
    "You will be using the following data sets:"
   ]
  },
  {
   "cell_type": "code",
   "execution_count": 2,
   "metadata": {
    "ExecuteTime": {
     "end_time": "2018-10-30T23:46:14.931653Z",
     "start_time": "2018-10-30T23:46:14.919868Z"
    }
   },
   "outputs": [],
   "source": [
    "import numpy as np\n",
    "import matplotlib.pyplot as plt\n",
    "import pandas as pd\n",
    "%matplotlib inline\n",
    "class DataA:\n",
    "    def __init__(self):\n",
    "        f = lambda x, y : np.random.randn(x, y)\n",
    "        self.train_x = f(1000, 20)\n",
    "        self.train_y = f(1000, 1)[:,0]\n",
    "        self.test_x = f(500, 20)\n",
    "        self.test_y = f(500, 1)[:,0]\n",
    "        \n",
    "class DataB:\n",
    "    def __init__(self):\n",
    "        # Data from: https://archive.ics.uci.edu/ml/datasets/Cloud\n",
    "        data = np.fromfile(\"data/cloud.data\", sep = \" \").reshape((1024, 10))\n",
    "        y = data[:, 6]\n",
    "        X = np.delete(data, 6, axis = 1)\n",
    "        \n",
    "        self.train_x = X[:800]\n",
    "        self.train_y = y[:800]\n",
    "        \n",
    "        self.test_x = X[800:]\n",
    "        self.test_y = y[800:]\n",
    "        \n",
    "class DataC:\n",
    "    def __init__(self):\n",
    "        # Data from: http://archive.ics.uci.edu/ml/datasets/Forest+Fires\n",
    "        data = pd.read_csv(\"data/forestfires.csv\")\n",
    "        data = data.sample(frac = 1).reset_index(drop = True).drop(columns = [\"month\", \"day\"])\n",
    "        data[\"area\"] = np.log(data[\"area\"] + 1)\n",
    "        X = data.drop(columns = \"area\").values\n",
    "        y = data[\"area\"].values\n",
    "        \n",
    "        self.train_x = X[:400]\n",
    "        self.train_y = y[:400]\n",
    "        \n",
    "        self.test_x = X[400:]\n",
    "        self.test_y = y[400:]"
   ]
  },
  {
   "cell_type": "code",
   "execution_count": 3,
   "metadata": {},
   "outputs": [],
   "source": [
    "data_a = DataA()\n",
    "data_b = DataB()\n",
    "data_c = DataC()"
   ]
  },
  {
   "cell_type": "markdown",
   "metadata": {},
   "source": [
    "1. [15 Pts] Fit a regressor to the data set using sklearn's `Lasso` module (for more details, read [here](http://scikit-learn.org/stable/modules/generated/sklearn.linear_model.Lasso.html)):\n",
    "    1. Train a LASSO model for each of the 3 data sets(A, B and C) using 5 different values for the regularization parameter $\\lambda$. Use $\\lambda = 0.01, 0.05, 0.1, 0.2, 0.3$. Report and plot the number of non-zero coefficients.\n",
    "    2. Report the value of $\\lambda$ that yields the minimum number of non-zero coefficients in the resulting $\\mathbf w$ in case of each dataset, and report the number of non-zero coefficients in that case. Keep track of this $\\mathbf w$, we will refer to it as $\\mathbf w_b$. [This step is only needed if any $\\mathbf{w}$ has coefficients that are 0.]\n",
    "    3. For each of the classifiers learned in part (A), compute their test error as mean-squared-error. Plot the test error as function of $\\lambda$ for all three datasets in the same graph.\n",
    "    4. Report the value of $\\lambda$ that yields the $\\mathbf w$ with the minimum test error in case of each dataset. Save this $\\mathbf w$ as $\\mathbf w_d$. How many non-zero coordinates does $\\mathbf w_d$ have? Keep track of this, as well as the answers for $\\mathbf w_b$ for the comparison to Ridge Regression below. It might be helpful to make a table, i.e. the number of non-zero coordinates and the test error for $\\mathbf w_b$ and $\\mathbf w_d$ for each data set.\n",
    "    5. For data set A, by increasing the value of $\\lambda$, can you get most of the entries to be 0? Can you get every entry to be 0?\n",
    "    \n",
    "Note: $\\lambda$ is same as $\\alpha$ in the sklearn module."
   ]
  },
  {
   "cell_type": "code",
   "execution_count": 4,
   "metadata": {},
   "outputs": [],
   "source": [
    "from sklearn import linear_model\n",
    "from sklearn.metrics import mean_squared_error\n",
    "from sklearn.metrics import accuracy_score\n",
    "from matplotlib.pylab import plt\n",
    "import math\n",
    "\n",
    "class Lasso:\n",
    "    def __init__(self, gamma, data):\n",
    "        self.gamma = gamma\n",
    "        self.data = data\n",
    "        \n",
    "        \n",
    "    def fit(self):\n",
    "        '''\n",
    "        Here you must fit a Lasso model, train it using the data you have in self.data, \n",
    "        specifically the training part, for the specified value of gamma in self.gamma. \n",
    "        Calculate the number of non-zero coefficients in the model weights. Then,\n",
    "        test the trained model on the testing part of the data in self.data and calculate the\n",
    "        Root mean square error between the predicted values and the actual values of target variable.\n",
    "        \n",
    "        RETURN : \n",
    "            num_nonzero_coeff : number of non-zero coefficients in the model weights\n",
    "            mean_squared_err : Root mean square error between the predicted values and the \n",
    "            actual values of target variable\n",
    "        '''\n",
    "        model = linear_model.Lasso(alpha=self.gamma)\n",
    "        model.fit(self.data.train_x,self.data.train_y)\n",
    "        pred_arr = model.predict(self.data.test_x)\n",
    "        # sum((actual - prediction) ** 2 )/total_data\n",
    "        acc = [(self.data.test_y[i]-pred_arr[i])**2 for i in range(len(pred_arr))]\n",
    "        \n",
    "        return (len(np.nonzero(model.coef_)[0]),sum(acc)/len(pred_arr))\n",
    "\n",
    "    \n",
    "\n",
    "data_sets = {'A': data_a, 'B': data_b, 'C': data_c}\n",
    "alphas = [0.01, 0.05, 0.1, 0.2, 0.3]\n"
   ]
  },
  {
   "cell_type": "code",
   "execution_count": 5,
   "metadata": {},
   "outputs": [],
   "source": [
    "def plot_coef(alphas,data_sets):\n",
    "    '''\n",
    "    This function takes in key and plots non-zero coef.\n",
    "    '''\n",
    "    coef_arr = []\n",
    "    alpha    = []\n",
    "    fig,ax   = plt.subplots()\n",
    "    \n",
    "    for d in data_sets: #loop through data_sets\n",
    "        coef_arr      = []\n",
    "        \n",
    "        for i in alphas: # loop through alpha value and calculate coef and mse\n",
    "            lasso    = Lasso(i,data_sets[d])\n",
    "            coef,mse = lasso.fit()\n",
    "            coef_arr.append(coef)\n",
    "        \n",
    "        ax.plot(alphas,coef_arr)\n",
    "            \n",
    "    ax.legend(data_sets,loc='lower right')\n",
    "    plt.xlabel(\"\")\n",
    "    plt.ylabel(\"coeff value\")\n",
    "#     plt.title(\"Coef for Data \")\n",
    "    plt.show()\n",
    "    \n",
    "def plot_mse(alphas,data_sets):\n",
    "    \"\"\"\n",
    "    This function loops through datasets and finds mean squared error for each \n",
    "    alpha value and plots it.\n",
    "    \"\"\"\n",
    "    fig,ax = plt.subplots()\n",
    "    \n",
    "    for d in data_sets: #loop through data_sets\n",
    "        mse_arr      = []\n",
    "        \n",
    "        for i in alphas: # loop through alpha value and calculate coef and mse\n",
    "            lasso    = Lasso(i,data_sets[d])\n",
    "            coef,mse = lasso.fit()\n",
    "            mse_arr.append(mse)\n",
    "        \n",
    "        ax.plot(alphas,mse_arr)\n",
    "    ax.legend(data_sets,loc='lower right')\n",
    "    plt.xlabel(\"Alphas\")\n",
    "    plt.ylabel(\"MSE value\")\n",
    "    plt.title(\"Mean Square Error\")\n",
    "    plt.show()\n",
    "\n",
    "def lasso_part_e(alphas,data_sets,key):\n",
    "    \n",
    "    df = pd.DataFrame()\n",
    "    df['lambda'] = alphas\n",
    "    mse_arr      = []\n",
    "    coef_num = []\n",
    "    for i in alphas: # loop through alpha value and calculate coef and mse\n",
    "        lasso    = Lasso(i,data_sets[key])\n",
    "        coef,mse = lasso.fit()\n",
    "        mse_arr.append(mse)\n",
    "        coef_num.append(coef)\n",
    "    df['Coef'] = coef_num\n",
    "    df['MSE'] = mse_arr\n",
    "    return df\n",
    "        \n",
    "    "
   ]
  },
  {
   "cell_type": "markdown",
   "metadata": {},
   "source": [
    "Readings: https://towardsdatascience.com/ridge-and-lasso-regression-a-complete-guide-with-python-scikit-learn-e20e34bcbf0b"
   ]
  },
  {
   "cell_type": "code",
   "execution_count": 6,
   "metadata": {},
   "outputs": [
    {
     "name": "stdout",
     "output_type": "stream",
     "text": [
      "------------------- PART (A)---------------------------\n"
     ]
    },
    {
     "data": {
      "image/png": "[encoded data removed]",
      "text/plain": [
       "<Figure size 432x288 with 1 Axes>"
      ]
     },
     "metadata": {
      "needs_background": "light"
     },
     "output_type": "display_data"
    },
    {
     "name": "stdout",
     "output_type": "stream",
     "text": [
      "None\n",
      "------------------- PART (B)---------------------------\n",
      "Lambda that yeilds min Coef for DataA: \n",
      "\n",
      "    lambda  Coef       MSE\n",
      "2     0.1     0  0.939078\n",
      "3     0.2     0  0.939078\n",
      "4     0.3     0  0.939078\n",
      "\n",
      "\n",
      "Lambda that yeilds min Coef for DataB: \n",
      "\n",
      "    lambda  Coef       MSE\n",
      "4     0.3     6  0.185557\n",
      "\n",
      "\n",
      "Lambda that yeilds min Coef for DataC: \n",
      "\n",
      "    lambda  Coef       MSE\n",
      "4     0.3     3  1.881875\n",
      "------------------- PART (C)---------------------------\n"
     ]
    },
    {
     "data": {
      "image/png": "[encoded data removed]",
      "text/plain": [
       "<Figure size 432x288 with 1 Axes>"
      ]
     },
     "metadata": {
      "needs_background": "light"
     },
     "output_type": "display_data"
    },
    {
     "name": "stdout",
     "output_type": "stream",
     "text": [
      "------------------- PART (D)---------------------------\n",
      "Lambda that yeilds min MSE for DataA: \n",
      "\n",
      "    lambda  Coef       MSE\n",
      "2     0.1     0  0.939078\n",
      "3     0.2     0  0.939078\n",
      "4     0.3     0  0.939078\n",
      "\n",
      "\n",
      "Lambda that yeilds min MSE for DataB: \n",
      "\n",
      "    lambda  Coef       MSE\n",
      "0    0.01     9  0.018248\n",
      "\n",
      "\n",
      "Lambda that yeilds min MSE for DataC: \n",
      "\n",
      "    lambda  Coef       MSE\n",
      "2     0.1     7  1.874745\n",
      "------------------- PART (E)---------------------------\n"
     ]
    },
    {
     "data": {
      "image/png": "[encoded data removed]",
      "text/plain": [
       "<Figure size 432x288 with 1 Axes>"
      ]
     },
     "metadata": {
      "needs_background": "light"
     },
     "output_type": "display_data"
    },
    {
     "name": "stdout",
     "output_type": "stream",
     "text": [
      "None\n"
     ]
    },
    {
     "data": {
      "text/plain": [
       "'We can get every entry to be zero if we increase lambda values for data A. If we look at plot from part A, data A was already producing all entry zero after 0.1 lambda \\nvalue.'"
      ]
     },
     "execution_count": 6,
     "metadata": {},
     "output_type": "execute_result"
    }
   ],
   "source": [
    "print('------------------- PART (A)---------------------------')\n",
    "print(plot_coef(alphas,data_sets))\n",
    "\n",
    "\n",
    "print('------------------- PART (B)---------------------------')\n",
    "df_a = lasso_part_e(alphas,data_sets,'A')\n",
    "print(\"Lambda that yeilds min Coef for DataA: \\n\\n\", df_a[df_a.Coef == df_a.Coef.min()])\n",
    "\n",
    "df_b = lasso_part_e(alphas,data_sets,'B')\n",
    "print(\"\\n\\nLambda that yeilds min Coef for DataB: \\n\\n\", df_b[df_b.Coef == df_b.Coef.min()])\n",
    "\n",
    "df_c = lasso_part_e(alphas,data_sets,'C')\n",
    "print(\"\\n\\nLambda that yeilds min Coef for DataC: \\n\\n\", df_c[df_c.Coef == df_c.Coef.min()])\n",
    "\n",
    "\n",
    "\n",
    "print('------------------- PART (C)---------------------------')\n",
    "plot_mse(alphas,data_sets)\n",
    "\n",
    "\n",
    "print('------------------- PART (D)---------------------------')\n",
    "df_a = lasso_part_e(alphas,data_sets,'A')\n",
    "print(\"Lambda that yeilds min MSE for DataA: \\n\\n\", df_a[df_a.MSE == df_a.MSE.min()])\n",
    "\n",
    "df_b = lasso_part_e(alphas,data_sets,'B')\n",
    "print(\"\\n\\nLambda that yeilds min MSE for DataB: \\n\\n\", df_b[df_b.MSE == df_b.MSE.min()])\n",
    "\n",
    "df_c = lasso_part_e(alphas,data_sets,'C')\n",
    "print(\"\\n\\nLambda that yeilds min MSE for DataC: \\n\\n\", df_c[df_c.MSE == df_c.MSE.min()])\n",
    "\n",
    "\n",
    "print('------------------- PART (E)---------------------------')\n",
    "print(plot_coef([0.5,0.6,0.7,0.8],{'A': data_a}))\n",
    "'''We can get every entry to be zero if we increase lambda values for data A. If we look at plot from part A, data A was already producing all entry zero after 0.1 lambda \n",
    "value.'''"
   ]
  },
  {
   "cell_type": "markdown",
   "metadata": {},
   "source": [
    "2. [15 pts] Now, we turn to Ridge regression. We'll use sklearn module `Ridge` (read more [here](http://scikit-learn.org/stable/modules/generated/sklearn.linear_model.Ridge.html#sklearn.linear_model.Ridge)). Repeat each of the experiments A-E above using Ridge regression. Use $\\lambda = 1, 50, 100, 200, 1000$."
   ]
  },
  {
   "cell_type": "code",
   "execution_count": 7,
   "metadata": {},
   "outputs": [],
   "source": [
    "def plot_ridge_coef(alphas,data_sets):\n",
    "    '''\n",
    "    This function takes in key and plots non-zero coef.\n",
    "    '''\n",
    "#     coef_arr = []\n",
    "    fig,ax   = plt.subplots()\n",
    "    \n",
    "    for d in data_sets: #loop through data_sets\n",
    "        coef_arr      = []\n",
    "        \n",
    "        for i in alphas: # loop through alpha value and calculate coef and mse\n",
    "            ridge    = Ridge(i,data_sets[d])\n",
    "            coef,mse = ridge.fit()\n",
    "            coef_arr.append(coef)\n",
    "        \n",
    "        ax.plot(alphas,coef_arr)\n",
    "    ax.legend(alphas,loc='lower right')\n",
    "    plt.xlabel(\"\")\n",
    "    plt.ylabel(\"coeff value\")\n",
    "    plt.title(\"Coef for Data \")\n",
    "    plt.show()\n",
    "    \n",
    "def plot_ridge_mse(alphas,data_sets):\n",
    "    \"\"\"\n",
    "    This function loops through datasets and finds mean squared error for each \n",
    "    alpha value and plots it.\n",
    "    \"\"\"\n",
    "    fig,ax = plt.subplots()\n",
    "    \n",
    "    for d in data_sets: #loop through data_sets\n",
    "        mse_arr      = []\n",
    "        \n",
    "        for i in alphas: # loop through alpha value and calculate coef and mse\n",
    "            ridge    = Ridge(i,data_sets[d])\n",
    "            coef,mse = ridge.fit()\n",
    "            mse_arr.append(mse)\n",
    "        \n",
    "        ax.plot(alphas,mse_arr)\n",
    "    ax.legend(data_sets,loc='lower right')\n",
    "    plt.xlabel(\"Alphas\")\n",
    "    plt.ylabel(\"MSE value\")\n",
    "    plt.title(\"Mean Square Error\")\n",
    "    plt.show()\n",
    "    \n",
    "def ridge_lasso_part_e(alphas,data_sets,key):\n",
    "    \n",
    "    df = pd.DataFrame()\n",
    "    df['lambda'] = alphas\n",
    "    mse_arr      = []\n",
    "    coef_num = []\n",
    "    for i in alphas: # loop through alpha value and calculate coef and mse\n",
    "        ridge    = Ridge(i,data_sets[key])\n",
    "        coef,mse = ridge.fit()\n",
    "        mse_arr.append(mse)\n",
    "        coef_num.append(coef)\n",
    "    df['Coef'] = coef_num\n",
    "    df['MSE'] = mse_arr\n",
    "    return df"
   ]
  },
  {
   "cell_type": "code",
   "execution_count": 8,
   "metadata": {},
   "outputs": [
    {
     "name": "stdout",
     "output_type": "stream",
     "text": [
      "------------------- PART (A)---------------------------\n"
     ]
    },
    {
     "data": {
      "image/png": "[encoded data removed]",
      "text/plain": [
       "<Figure size 432x288 with 1 Axes>"
      ]
     },
     "metadata": {
      "needs_background": "light"
     },
     "output_type": "display_data"
    },
    {
     "name": "stdout",
     "output_type": "stream",
     "text": [
      "------------------- PART (B)---------------------------\n",
      "Lambda that yeilds min Coef for DataA: \n",
      "\n",
      "    lambda  Coef       MSE\n",
      "0       1    20  0.974961\n",
      "1      50    20  0.971891\n",
      "2     100    20  0.969173\n",
      "3     200    20  0.964719\n",
      "4    1000    20  0.949457\n",
      "\n",
      "\n",
      "Lambda that yeilds min Coef for DataB: \n",
      "\n",
      "    lambda  Coef       MSE\n",
      "0       1     9  0.003680\n",
      "1      50     9  0.039715\n",
      "2     100     9  0.049680\n",
      "3     200     9  0.063935\n",
      "4    1000     9  0.119211\n",
      "\n",
      "\n",
      "Lambda that yeilds min Coef for DataC: \n",
      "\n",
      "    lambda  Coef       MSE\n",
      "0       1    10  1.905905\n",
      "1      50    10  1.903561\n",
      "2     100    10  1.902021\n",
      "3     200    10  1.899768\n",
      "4    1000    10  1.892772\n",
      "------------------- PART (C)---------------------------\n"
     ]
    },
    {
     "data": {
      "image/png": "[encoded data removed]",
      "text/plain": [
       "<Figure size 432x288 with 1 Axes>"
      ]
     },
     "metadata": {
      "needs_background": "light"
     },
     "output_type": "display_data"
    },
    {
     "name": "stdout",
     "output_type": "stream",
     "text": [
      "------------------- PART (D)---------------------------\n",
      "Lambda that yeilds min MSE for DataA: \n",
      "\n",
      "    lambda  Coef       MSE\n",
      "4    1000    20  0.949457\n",
      "\n",
      "\n",
      "Lambda that yeilds min MSE for DataB: \n",
      "\n",
      "    lambda  Coef      MSE\n",
      "0       1     9  0.00368\n",
      "\n",
      "\n",
      "Lambda that yeilds min MSE for DataC: \n",
      "\n",
      "    lambda  Coef       MSE\n",
      "4    1000    10  1.892772\n",
      "------------------- PART (E)---------------------------\n"
     ]
    },
    {
     "data": {
      "text/plain": [
       "'No We can not in this case. As we know, the ridge regression never reaches zero even if we increase lambda value for Data A or other datas too. '"
      ]
     },
     "execution_count": 8,
     "metadata": {},
     "output_type": "execute_result"
    }
   ],
   "source": [
    "from sklearn.linear_model import Ridge\n",
    "from sklearn.metrics import mean_squared_error\n",
    "from sklearn.metrics import accuracy_score\n",
    "\n",
    "class Ridge:\n",
    "    def __init__(self, gamma, data):\n",
    "        self.gamma = gamma\n",
    "        self.data = data\n",
    "        \n",
    "        \n",
    "    def fit(self):\n",
    "        '''\n",
    "        Here you must fit a Lasso model, train it using the data you have in self.data, \n",
    "        specifically the training part, for the specified value of gamma in self.gamma. \n",
    "        Calculate the number of non-zero coefficients in the model weights. Then,\n",
    "        test the trained model on the testing part of the data in self.data and calculate the\n",
    "        Root mean square error between the predicted values and the actual values of target variable.\n",
    "        \n",
    "        RETURN : \n",
    "            num_nonzero_coeff : number of non-zero coefficients in the model weights\n",
    "            mean_squared_err : Root mean square error between the predicted values and the \n",
    "            actual values of target variable\n",
    "        '''\n",
    "        model = linear_model.Ridge(alpha=self.gamma)\n",
    "        model.fit(self.data.train_x,self.data.train_y)\n",
    "        pred_arr = model.predict(self.data.test_x)\n",
    "        # sum((actual - prediction) ** 2 )/total_data\n",
    "        acc = [(self.data.test_y[i]-pred_arr[i])**2 for i in range(len(pred_arr))]\n",
    "        \n",
    "        return (len(np.nonzero(model.coef_)[0]),sum(acc)/len(pred_arr))\n",
    "\n",
    "alphas = [1, 50, 100, 200, 1000]\n",
    "print('------------------- PART (A)---------------------------')\n",
    "plot_ridge_coef(alphas,data_sets)\n",
    "\n",
    "print('------------------- PART (B)---------------------------')\n",
    "rdf_a = ridge_lasso_part_e(alphas,data_sets,'A')\n",
    "print(\"Lambda that yeilds min Coef for DataA: \\n\\n\", rdf_a[rdf_a.Coef == rdf_a.Coef.min()])\n",
    "\n",
    "rdf_b = ridge_lasso_part_e(alphas,data_sets,'B')\n",
    "print(\"\\n\\nLambda that yeilds min Coef for DataB: \\n\\n\", rdf_b[rdf_b.Coef == rdf_b.Coef.min()])\n",
    "\n",
    "rdf_c = ridge_lasso_part_e(alphas,data_sets,'C')\n",
    "print(\"\\n\\nLambda that yeilds min Coef for DataC: \\n\\n\", rdf_c[rdf_c.Coef == rdf_c.Coef.min()])\n",
    "\n",
    "\n",
    "\n",
    "print('------------------- PART (C)---------------------------')\n",
    "plot_ridge_mse(alphas,data_sets)\n",
    "print('------------------- PART (D)---------------------------')\n",
    "rdf_a = ridge_lasso_part_e(alphas,data_sets,'A')\n",
    "print(\"Lambda that yeilds min MSE for DataA: \\n\\n\", rdf_a[rdf_a.MSE == rdf_a.MSE.min()])\n",
    "\n",
    "rdf_b = ridge_lasso_part_e(alphas,data_sets,'B')\n",
    "print(\"\\n\\nLambda that yeilds min MSE for DataB: \\n\\n\", rdf_b[rdf_b.MSE == rdf_b.MSE.min()])\n",
    "\n",
    "rdf_c = ridge_lasso_part_e(alphas,data_sets,'C')\n",
    "print(\"\\n\\nLambda that yeilds min MSE for DataC: \\n\\n\", rdf_c[rdf_c.MSE == rdf_c.MSE.min()])\n",
    "\n",
    "\n",
    "print('------------------- PART (E)---------------------------')\n",
    "'''No We can not in this case. As we know, the ridge regression never reaches zero even if we increase lambda value for Data A or other datas too. '''"
   ]
  },
  {
   "cell_type": "markdown",
   "metadata": {},
   "source": [
    "3. [10 pts] Compare the two algorithms on each data set: compare the number of non-zero coordinates of the $\\mathbf w_d$'s, and compare the test error rates of the $\\mathbf w_b$'s. Report your results and comment on them."
   ]
  },
  {
   "cell_type": "markdown",
   "metadata": {},
   "source": [
    "The number of non-zero coefficient in Lasso and Ridge is very different. That's because, the Lasso converges differnt with different lambda value, but it eventually converges quickly and reaches zero where as with Ridge algorithm, it converges uniformaly and converges to zero but never reaches zero. Therefore, we have a uniform non-zero coefficient in Ridges with any lambda value while Lasso has different amount of non-zero coefficient with different lambda. \n",
    "\n"
   ]
  },
  {
   "cell_type": "markdown",
   "metadata": {},
   "source": [
    "## Part 2: Visualizing Data and Decision Boundaries for different kernels - 20 points"
   ]
  },
  {
   "cell_type": "markdown",
   "metadata": {},
   "source": [
    "We've also been exploring the world of support vector machines and Kernels, so to understand these systems a little better, let's start by building a few ourselves."
   ]
  },
  {
   "cell_type": "markdown",
   "metadata": {},
   "source": [
    "### A. Training SVM with Linear Kernel (Dataset 1)"
   ]
  },
  {
   "cell_type": "code",
   "execution_count": 9,
   "metadata": {},
   "outputs": [
    {
     "data": {
      "image/png": "[encoded data removed]",
      "text/plain": [
       "<Figure size 432x288 with 1 Axes>"
      ]
     },
     "metadata": {
      "needs_background": "light"
     },
     "output_type": "display_data"
    }
   ],
   "source": [
    "import numpy as np\n",
    "import scipy.io as sio\n",
    "import matplotlib.pyplot as plt\n",
    "\n",
    "from plot_data import plot_data\n",
    "\n",
    "\n",
    "# Load from data1\n",
    "mat_data = sio.loadmat('./data/data1.mat')\n",
    "X = mat_data['X']\n",
    "y = mat_data['y'].ravel()\n",
    "\n",
    "# Plot training data\n",
    "plt.figure()\n",
    "plot_data(X, y)\n",
    "plt.xlim([0, 4.5])\n",
    "plt.ylim([1.5, 5])\n",
    "plt.title(\"Dataset 1\")\n",
    "plt.show()"
   ]
  },
  {
   "cell_type": "markdown",
   "metadata": {},
   "source": [
    "**A:** [10 pts] In `data1.mat`, most of the positive and negative examples can be separated by a single line. We'll train an SVM with a linear kernel (look at `sklearn.svm.LinearSVC`) with C = 1 and plot the decision boundary using `visualize_boundary_linear(X, y, clf)`. `clf` is the SVM classifier. For the classifier, you should use the scikit-learn implementation. Add the decision boundary, uncomment the visualization, and verify it in the graph below."
   ]
  },
  {
   "cell_type": "code",
   "execution_count": 10,
   "metadata": {},
   "outputs": [
    {
     "data": {
      "image/png": "[encoded data removed]",
      "text/plain": [
       "<Figure size 432x288 with 1 Axes>"
      ]
     },
     "metadata": {
      "needs_background": "light"
     },
     "output_type": "display_data"
    }
   ],
   "source": [
    "# SOLUTION \n",
    "from sklearn import svm\n",
    "from visualize_boundary_linear import visualize_boundary_linear\n",
    "\n",
    "### START CODE HERE ### (approx. 3 lines)\n",
    "C = 1\n",
    "clf = svm.LinearSVC()\n",
    "clf.fit(X,y)\n",
    "### END CODE HERE ### \n",
    "\n",
    "\n",
    "plt.figure()\n",
    "visualize_boundary_linear(X, y, clf)\n",
    "plt.xlim([0, 4.5])\n",
    "plt.ylim([1.5, 5])\n",
    "plt.title(\"Dataset 1\")\n",
    "plt.show()"
   ]
  },
  {
   "cell_type": "markdown",
   "metadata": {},
   "source": [
    "### B. Training SVM with RBF Kernel (Dataset 2)"
   ]
  },
  {
   "cell_type": "code",
   "execution_count": 11,
   "metadata": {},
   "outputs": [
    {
     "data": {
      "image/png": "[encoded data removed]",
      "text/plain": [
       "<Figure size 432x288 with 1 Axes>"
      ]
     },
     "metadata": {
      "needs_background": "light"
     },
     "output_type": "display_data"
    }
   ],
   "source": [
    "# Load from data2\n",
    "mat_data = sio.loadmat('./data/data2.mat')\n",
    "X = mat_data['X']\n",
    "y = mat_data['y'].ravel()\n",
    "\n",
    "# Plot training data\n",
    "plt.figure()\n",
    "plot_data(X, y)\n",
    "plt.xlim([0, 1])\n",
    "plt.ylim([0.4, 1])\n",
    "plt.title(\"Dataset 2\")\n",
    "plt.show()"
   ]
  },
  {
   "cell_type": "markdown",
   "metadata": {},
   "source": [
    "**B** [10 pts] In `data2.mat`, the positive and negative data points are not linearly separable. For this dataset, construct an SVM classifier with a Gaussian kernel (look at `sklearn.svm.SVC`) to learn a non-linear decision boundary. You should use the scikit-learn implementation for the same. To plot the decision boundary use `visualize_boundary(X, y, clf)`. As before, implement the decision boundary, uncomment the visualization, and verify it in the graph below."
   ]
  },
  {
   "cell_type": "code",
   "execution_count": 12,
   "metadata": {},
   "outputs": [
    {
     "name": "stderr",
     "output_type": "stream",
     "text": [
      "/Users/tenzinchoedon/Desktop/ml_class/HW3-Bundle/visualize_boundary.py:29: UserWarning: No contour levels were found within the data range.\n",
      "  plt.contour(X1, X2, vals, levels=[0])\n"
     ]
    },
    {
     "data": {
      "image/png": "[encoded data removed]",
      "text/plain": [
       "<Figure size 432x288 with 1 Axes>"
      ]
     },
     "metadata": {
      "needs_background": "light"
     },
     "output_type": "display_data"
    }
   ],
   "source": [
    "from visualize_boundary import visualize_boundary\n",
    "\n",
    "# SVM Parameters to be used\n",
    "C = 100\n",
    "gamma = 10\n",
    "kernel = 'rbf'\n",
    "\n",
    "### START CODE HERE ### (approx. 3 lines)\n",
    "clf = svm.SVC(C=C,gamma=gamma,kernel=kernel)\n",
    "clf.fit(X,y)\n",
    "### END CODE HERE ### \n",
    "\n",
    "plt.figure()\n",
    "visualize_boundary(X, y, clf)\n",
    "plt.xlim([0, 1])\n",
    "plt.ylim([0.4, 1])\n",
    "plt.title(\"Dataset 2\")\n",
    "plt.show()"
   ]
  },
  {
   "cell_type": "markdown",
   "metadata": {},
   "source": [
    "## Part 3: Kernel Perceptron - 40 points"
   ]
  },
  {
   "cell_type": "markdown",
   "metadata": {},
   "source": [
    "Now that we've seen the SKLearn implementation of some different kernels, we'll be working to implement some of our own kernel transformations, but we'll work within the perceptron space. Implement the Kernel Perceptron as described in the lecture using different kernel functions (Linear, Polynomial, and Gaussian RBF). Use the training and test data provided below to train and test your implementation. Report the error rate for each kernel function."
   ]
  },
  {
   "cell_type": "markdown",
   "metadata": {},
   "source": [
    "**A:** [20 pts] Implement the kernel functions below:"
   ]
  },
  {
   "cell_type": "code",
   "execution_count": 13,
   "metadata": {},
   "outputs": [],
   "source": [
    "import numpy as np\n",
    "from numpy import linalg\n",
    "\n",
    "def linear_kernel(x1, x2):\n",
    "    return np.matmul(np.transpose(x1),x2)\n",
    "\n",
    "def polynomial_kernel(x, y, p = 3):\n",
    "    C = 1\n",
    "    return (np.matmul(np.transpose(x),y)+C) ** p\n",
    "    \n",
    "def gaussian_kernel(x, y, sigma = 0.5):\n",
    "    norm = np.linalg.norm(x-y) ** 2\n",
    "    std = sigma ** 2\n",
    "    return np.exp(-(norm/(2*std)))"
   ]
  },
  {
   "cell_type": "code",
   "execution_count": 14,
   "metadata": {},
   "outputs": [
    {
     "name": "stderr",
     "output_type": "stream",
     "text": [
      "...\n",
      "----------------------------------------------------------------------\n",
      "Ran 3 tests in 0.132s\n",
      "\n",
      "OK\n"
     ]
    },
    {
     "data": {
      "text/plain": [
       "<unittest.runner.TextTestResult run=3 errors=0 failures=0>"
      ]
     },
     "execution_count": 14,
     "metadata": {},
     "output_type": "execute_result"
    }
   ],
   "source": [
    "import unittest\n",
    "\n",
    "class TestKernels(unittest.TestCase):\n",
    "    \n",
    "    def setUp(self):\n",
    "        self.x1 = np.array([1, 2, 1])\n",
    "        self.x2 = np.array([0, 4, -1])\n",
    "        \n",
    "    def test0(self):\n",
    "        \"\"\"\n",
    "        WARNING : DO NOT CHANGE THE UNIT TESTS\n",
    "        Test the linear kernel\n",
    "        \"\"\"\n",
    "#         print(linear_kernel(self.x1, self.x2))\n",
    "        self.assertEqual(linear_kernel(self.x1, self.x2), 7)\n",
    "    \n",
    "    def test_polynomial_kernel(self):\n",
    "        \"\"\"\n",
    "        WARNING : DO NOT CHANGE THE UNIT TESTS\n",
    "        Test the polynomial kernel\n",
    "        \"\"\"\n",
    "        self.assertEqual(polynomial_kernel(self.x1, self.x2), 512)\n",
    "        \n",
    "    def test_gaussian_kernel(self):\n",
    "        \"\"\"\n",
    "        WARNING : DO NOT CHANGE THE UNIT TESTS\n",
    "        Test the gaussian kernel\n",
    "        \"\"\"\n",
    "        self.assertAlmostEqual(gaussian_kernel(self.x1, self.x2) * 10 ** 8, 1.52299, 4)\n",
    "    \n",
    "\n",
    "tests = TestKernels()\n",
    "tests_to_run = unittest.TestLoader().loadTestsFromModule(tests)\n",
    "unittest.TextTestRunner().run(tests_to_run)\n",
    "            "
   ]
  },
  {
   "cell_type": "markdown",
   "metadata": {},
   "source": [
    "**B:** [20 pts] Implement the following methods of the `KernelPerceptron` class. The `__init__` takes also as input the kernel to use. You are allowed to introduce new class variables/methods.\n",
    "\n",
    "* Implement the `fit` method. Taking as input the training data, it learns the model parameters\n",
    "* Implement the `predict` method which takes as input new examples and returns the estimated label "
   ]
  },
  {
   "cell_type": "code",
   "execution_count": 76,
   "metadata": {},
   "outputs": [],
   "source": [
    "class KernelPerceptron:\n",
    "    def __init__(self, kernel = linear_kernel, Niter = 1):\n",
    "        \n",
    "        self.kernel = kernel\n",
    "        self.Niter = Niter\n",
    "        self.support_vector_x = None\n",
    "        self.support_vector_y = None\n",
    "        \n",
    "    def fit(self, X, y):\n",
    "        '''\n",
    "        Estimate model parameters i.e the support vectors here and store them in the\n",
    "        class variable self.support_vector_x and self.support_vector_y\n",
    "        '''\n",
    "        \n",
    "        n = X.shape[0]\n",
    "        k = np.zeros([n,n])\n",
    "        alpha = np.zeros(n)\n",
    "        for i in range(n): # loop through all datasets\n",
    "            for j in range(i,n): # start at i column index \n",
    "                k[i,j] = k[j,i] = self.kernel(X[i,:],X[j,:]) # update kernel matrix\n",
    "                \n",
    "        for t in range(self.Niter): # number of epoch\n",
    "            for i in range(n): # loop through all datasets\n",
    "                y_hat = np.sign(np.matmul(alpha,k[i,:])) # get sign of multiplying alpha to kernel i column/row\n",
    "                if(y_hat != y[i]): # check if predicted value matches actual value\n",
    "                    alpha[i] += 1 # update alpha as needed\n",
    "        non_zero_idx = np.nonzero(alpha) # get nonzero index of alpha values\n",
    "        \n",
    "        self.support_vector_x = X[non_zero_idx,:] # get all X rows with those nonzero index\n",
    "        self.support_vector_y = y[non_zero_idx] # same for y values.\n",
    "    \n",
    "        return alpha\n",
    "    def predict(self, X):\n",
    "        '''\n",
    "        Here X is a set of points. \n",
    "        RETURN : \n",
    "            y_predict : predicted labels for a set of points X\n",
    "        '''\n",
    "        n = self.support_vector_x.shape[0]\n",
    "        k = np.zeros([n,n])\n",
    "        alpha = np.zeros(n)\n",
    "        pred = np.zeros(n)\n",
    "        for i in range(n): # loop through all datasets\n",
    "            for j in range(i,n): # start at i column index \n",
    "                k[i,j] = k[j,i] = self.kernel(self.support_vector_x[i,:],self.support_vector_x[j,:]) # update kernel matrix\n",
    "                \n",
    "        for t in range(self.Niter): # number of epoch\n",
    "            for i in range(n): # loop through all datasets\n",
    "                y_hat = np.sign(np.matmul(alpha,k[i,:])) # get sign of multiplying alpha to kernel i column/row\n",
    "                if(y_hat != y[i]): # check if predicted value matches actual value\n",
    "                    alpha[i] += 1 # update alpha as needed \n",
    "                else:\n",
    "                    pred[i] = 1\n",
    "        acc = np.count_nonzero(np.array(pred) == 1)/len(pred)\n",
    "        return acc\n",
    "#         pass"
   ]
  },
  {
   "cell_type": "markdown",
   "metadata": {},
   "source": [
    "##  Solving a new classification problem using SVM"
   ]
  },
  {
   "cell_type": "markdown",
   "metadata": {},
   "source": [
    "We are using the IRIS Dataset for this classification task. We have created a binary classification problem to determine whether a given flower is a setosa or not. To create this, we pre-processed the labels to create a label vector where setosa’s label is unchanged (i.e. its label is 1), but both versicolor and virginica are now labeled as -1. The data contains two out of the four attributes, petal width and petal length.We are going to use this dataset to test our Kernel Perceptron\n",
    "<br>\n",
    "\n",
    "<img src=\"wide_iris.png\" alt=\"Drawing\" style=\"width: 600px;\"/>\n",
    "\n",
    "<br>"
   ]
  },
  {
   "cell_type": "code",
   "execution_count": 58,
   "metadata": {},
   "outputs": [
    {
     "data": {
      "text/plain": [
       "(135, 2)"
      ]
     },
     "execution_count": 58,
     "metadata": {},
     "output_type": "execute_result"
    }
   ],
   "source": [
    "from scipy.io import loadmat\n",
    "class Data:\n",
    "    def __init__(self):\n",
    "        ff = lambda x,y : loadmat(x)[y]\n",
    "        \n",
    "        self.X_train = ff(\"data/iris_3/train_data.mat\", \"train_data\")\n",
    "        self.y_train = ff(\"data/iris_3/train_labels.mat\", \"train_labels\").flatten()\n",
    "        \n",
    "        self.X_test = ff(\"data/iris_3/test_data.mat\", \"test_data\")\n",
    "        self.y_test = ff(\"data/iris_3/test_labels.mat\", \"test_labels\").flatten()\n",
    "        \n",
    "data = Data()\n",
    "data.X_train.shape"
   ]
  },
  {
   "cell_type": "markdown",
   "metadata": {},
   "source": [
    "**C:** Report the test error as a percentage for each kernel function for `Niter = 20`"
   ]
  },
  {
   "cell_type": "code",
   "execution_count": 74,
   "metadata": {},
   "outputs": [],
   "source": [
    "from sklearn.metrics import accuracy_score\n",
    "model = [KernelPerceptron(kernel=i) for i in [linear_kernel,polynomial_kernel,gaussian_kernel]]\n",
    "for i in model:\n",
    "    i.fit(data.X_train, data.y_train)\n",
    "#     print(i.predict(data.X_test))\n",
    "\n"
   ]
  },
  {
   "cell_type": "code",
   "execution_count": 75,
   "metadata": {},
   "outputs": [
    {
     "data": {
      "text/plain": [
       "array([1., 1., 0., 0., 1., 0., 1., 0., 0., 0., 0., 1., 0., 0., 1., 0., 1.,\n",
       "       0., 0., 1., 1., 0., 0., 1., 0., 0., 1., 1., 0., 1., 0., 0., 0., 0.,\n",
       "       0., 0., 0., 0., 1., 0., 0., 1., 0., 1., 1., 0., 0., 0., 0., 0., 1.,\n",
       "       1., 0., 1., 1., 0., 1., 0., 1., 0., 0., 1., 1., 1., 0., 0., 0., 0.,\n",
       "       0., 0., 0., 0., 0., 0., 1., 1., 1., 0., 0., 0., 0., 1., 0., 0., 0.,\n",
       "       0., 0., 0., 0., 1., 0., 0., 0., 0., 0., 0., 0., 0., 0., 0., 0., 0.,\n",
       "       1., 0., 1., 0., 0., 1., 0., 0., 1., 0., 0., 0., 1., 0., 0., 1., 0.,\n",
       "       1., 0., 0., 1., 1., 0., 0., 0., 0., 1., 1., 1., 1., 1., 0., 1.])"
      ]
     },
     "execution_count": 75,
     "metadata": {},
     "output_type": "execute_result"
    }
   ],
   "source": [
    "from sklearn.metrics import accuracy_score\n",
    "perceptron = KernelPerceptron(kernel=linear_kernel)\n",
    "perceptron.fit(data.X_train,data.y_train)\n",
    "# perceptron.predict(data.X_test)\n"
   ]
  },
  {
   "cell_type": "markdown",
   "metadata": {},
   "source": [
    "**Expected Output**: \n",
    "\n",
    "<table> \n",
    "    <tr>\n",
    "    <td>\n",
    "    **Linear Kernel**\n",
    "    </td>\n",
    "     <td>\n",
    "    40 %\n",
    "    </td>\n",
    "    </tr>\n",
    "      <tr>\n",
    "    <td>\n",
    "    **Polynomial Kernel**\n",
    "    </td>\n",
    "     <td>\n",
    "    6.67 %\n",
    "    </td>\n",
    "    </tr>\n",
    "      <tr>\n",
    "    <td>\n",
    "    **Gaussian Kernel**\n",
    "    </td>\n",
    "     <td>\n",
    "    6.67 %\n",
    "    </td>\n",
    "    </tr>\n",
    "\n",
    "</table> "
   ]
  },
  {
   "cell_type": "code",
   "execution_count": null,
   "metadata": {},
   "outputs": [],
   "source": []
  }
 ],
 "metadata": {
  "kernelspec": {
   "display_name": "Python 3",
   "language": "python",
   "name": "python3"
  },
  "language_info": {
   "codemirror_mode": {
    "name": "ipython",
    "version": 3
   },
   "file_extension": ".py",
   "mimetype": "text/x-python",
   "name": "python",
   "nbconvert_exporter": "python",
   "pygments_lexer": "ipython3",
   "version": "3.7.4"
  }
 },
 "nbformat": 4,
 "nbformat_minor": 4
}
